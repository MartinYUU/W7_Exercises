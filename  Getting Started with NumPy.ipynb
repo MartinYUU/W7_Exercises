{
 "cells": [
  {
   "cell_type": "code",
   "execution_count": 1,
   "id": "7c66c1d9-b41a-48cd-8c11-86e5c3889ddf",
   "metadata": {},
   "outputs": [],
   "source": [
    "import numpy as np"
   ]
  },
  {
   "cell_type": "markdown",
   "id": "7c9d12de-2103-4ba7-b06f-ad4c5fb396b9",
   "metadata": {},
   "source": [
    "# Array Basics\n"
   ]
  },
  {
   "cell_type": "code",
   "execution_count": 2,
   "id": "c096a88c-fab0-4535-b12c-67cb91362934",
   "metadata": {},
   "outputs": [],
   "source": [
    "fruits = ['apple', 'banana', 'cherry', 'date']\n"
   ]
  },
  {
   "cell_type": "code",
   "execution_count": 3,
   "id": "765b9f03-fa39-406d-8847-7d21286026f2",
   "metadata": {},
   "outputs": [
    {
     "name": "stdout",
     "output_type": "stream",
     "text": [
      "['apple' 'banana' 'cherry' 'date']\n"
     ]
    }
   ],
   "source": [
    "arr1 = np.array(fruits)\n",
    "print(arr1)"
   ]
  },
  {
   "cell_type": "code",
   "execution_count": 4,
   "id": "f3b1798a-30fb-4b28-a0a6-4525634ea726",
   "metadata": {},
   "outputs": [
    {
     "name": "stdout",
     "output_type": "stream",
     "text": [
      "<U6\n"
     ]
    }
   ],
   "source": [
    "print(arr1.dtype)\n",
    "# arr1 is datatype U6  u means the integers are unsigned. 6 means they are stored in 6 bis"
   ]
  },
  {
   "cell_type": "code",
   "execution_count": 5,
   "id": "cab6921c-d53d-4bfe-ab97-9382b84e1de0",
   "metadata": {},
   "outputs": [
    {
     "name": "stdout",
     "output_type": "stream",
     "text": [
      "[[10 11 12]\n",
      " [13 14 15]]\n"
     ]
    }
   ],
   "source": [
    "arr_2 = np.array([(10, 11, 12),(13, 14, 15)])\n",
    "print(arr_2)"
   ]
  },
  {
   "cell_type": "code",
   "execution_count": 6,
   "id": "977c643b-238c-4ee1-8d7f-1c68f3c306a8",
   "metadata": {},
   "outputs": [
    {
     "name": "stdout",
     "output_type": "stream",
     "text": [
      "[[10 13]\n",
      " [11 14]\n",
      " [12 15]]\n"
     ]
    }
   ],
   "source": [
    "print(arr_2.T)\n",
    "# this does not change the value of arr_2 it will just print the the transposed version of arr_2"
   ]
  },
  {
   "cell_type": "code",
   "execution_count": 8,
   "id": "aa3d8840-d3f2-47ce-87e8-69e2cc1f6229",
   "metadata": {},
   "outputs": [
    {
     "name": "stdout",
     "output_type": "stream",
     "text": [
      "[[1 3 5]\n",
      " [2 4 6]]\n"
     ]
    }
   ],
   "source": [
    "#Create a variable named arr_3 as a two-dimensional array containing  \n",
    "#(1, 3, 5) and (2, 4, 6) then print arr_3.\n",
    "\n",
    "arr_3 = np.array([(1, 3, 5),(2 , 4, 6)])\n",
    "print(arr_3)"
   ]
  },
  {
   "cell_type": "code",
   "execution_count": 9,
   "id": "267a4c6f-c619-46cb-9339-51c92acfc261",
   "metadata": {},
   "outputs": [
    {
     "name": "stdout",
     "output_type": "stream",
     "text": [
      "2\n"
     ]
    }
   ],
   "source": [
    "print(arr_3.ndim)"
   ]
  },
  {
   "cell_type": "code",
   "execution_count": 11,
   "id": "70168fa0-feb2-49a1-bfbe-4d3b74a081d1",
   "metadata": {},
   "outputs": [
    {
     "name": "stdout",
     "output_type": "stream",
     "text": [
      "[5 4]\n"
     ]
    }
   ],
   "source": [
    "# Create a variable named arr_4 as a one-dimensional array containing two values: \n",
    "# using slicing notation, the element of arr_3 at index position 0, 2 and the element \n",
    "# of arr_3 at index position 1, 1. Then print arr_4.\n",
    "\n",
    "arr_4 = np.array([arr_3[0][2], arr_3[1][1]])\n",
    "print(arr_4)"
   ]
  },
  {
   "cell_type": "code",
   "execution_count": 20,
   "id": "20be9814-c88d-4610-851a-4600b89a57d2",
   "metadata": {},
   "outputs": [
    {
     "name": "stdout",
     "output_type": "stream",
     "text": [
      "[[[1 1]\n",
      "  [1 1]]\n",
      "\n",
      " [[1 1]\n",
      "  [1 1]]]\n"
     ]
    }
   ],
   "source": [
    "# Create a variable named arr_5 as a three-dimensional array containing all 1’s, \n",
    "# with two values in each dimension. Then print arr_5.\n",
    "arr_5 = np.array([[[1, 1],[1,1]],[[1, 1],[1, 1]]])\n",
    "print(arr_5)"
   ]
  }
 ],
 "metadata": {
  "kernelspec": {
   "display_name": "Python 3 (ipykernel)",
   "language": "python",
   "name": "python3"
  },
  "language_info": {
   "codemirror_mode": {
    "name": "ipython",
    "version": 3
   },
   "file_extension": ".py",
   "mimetype": "text/x-python",
   "name": "python",
   "nbconvert_exporter": "python",
   "pygments_lexer": "ipython3",
   "version": "3.12.7"
  }
 },
 "nbformat": 4,
 "nbformat_minor": 5
}
